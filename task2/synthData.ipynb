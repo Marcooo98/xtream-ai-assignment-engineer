{
 "cells": [
  {
   "cell_type": "code",
   "execution_count": 15,
   "id": "28c4c83ae4907a9d",
   "metadata": {
    "collapsed": false,
    "ExecuteTime": {
     "end_time": "2024-04-17T13:05:11.563626800Z",
     "start_time": "2024-04-17T13:05:11.549635Z"
    }
   },
   "outputs": [],
   "source": [
    "from sdv.datasets.local import load_csvs\n",
    "from sdv.metadata import SingleTableMetadata"
   ]
  },
  {
   "cell_type": "code",
   "execution_count": 16,
   "outputs": [
    {
     "name": "stderr",
     "output_type": "stream",
     "text": [
      "C:\\Users\\marco\\AppData\\Local\\Programs\\Python\\Python311\\Lib\\site-packages\\sdv\\datasets\\local.py:36: UserWarning: Ignoring incompatible files ['README.md'] in folder '../datasets/diamonds/'.\n",
      "  warnings.warn(\n"
     ]
    },
    {
     "data": {
      "text/plain": "      carat        cut color clarity  depth  table  price     x     y     z\n0      1.10      Ideal     H     SI2   62.0   55.0   4733  6.61  6.65  4.11\n1      1.29      Ideal     H     SI1   62.6   56.0   6424  6.96  6.93  4.35\n2      1.20    Premium     I     SI1   61.1   58.0   5510  6.88  6.80  4.18\n3      1.50      Ideal     F     SI1   60.9   56.0   8770  7.43  7.36  4.50\n4      0.90  Very Good     F     VS2   61.7   57.0   4493  6.17  6.21  3.82\n...     ...        ...   ...     ...    ...    ...    ...   ...   ...   ...\n4995   0.38      Ideal     H    VVS2   62.3   53.3    832  4.65  4.69  2.91\n4996   0.33    Premium     G    VVS2   61.3   59.0    927  4.45  4.42  2.72\n4997   1.25      Ideal     J    VVS2   62.1   56.0   5980  6.81  6.84  4.24\n4998   0.31    Premium     F     VS2   62.9   58.0    802  4.31  4.27  2.70\n4999   0.30      Ideal     H    VVS1   61.2   57.0    655  4.30  4.39  2.66\n\n[5000 rows x 10 columns]",
      "text/html": "<div>\n<style scoped>\n    .dataframe tbody tr th:only-of-type {\n        vertical-align: middle;\n    }\n\n    .dataframe tbody tr th {\n        vertical-align: top;\n    }\n\n    .dataframe thead th {\n        text-align: right;\n    }\n</style>\n<table border=\"1\" class=\"dataframe\">\n  <thead>\n    <tr style=\"text-align: right;\">\n      <th></th>\n      <th>carat</th>\n      <th>cut</th>\n      <th>color</th>\n      <th>clarity</th>\n      <th>depth</th>\n      <th>table</th>\n      <th>price</th>\n      <th>x</th>\n      <th>y</th>\n      <th>z</th>\n    </tr>\n  </thead>\n  <tbody>\n    <tr>\n      <th>0</th>\n      <td>1.10</td>\n      <td>Ideal</td>\n      <td>H</td>\n      <td>SI2</td>\n      <td>62.0</td>\n      <td>55.0</td>\n      <td>4733</td>\n      <td>6.61</td>\n      <td>6.65</td>\n      <td>4.11</td>\n    </tr>\n    <tr>\n      <th>1</th>\n      <td>1.29</td>\n      <td>Ideal</td>\n      <td>H</td>\n      <td>SI1</td>\n      <td>62.6</td>\n      <td>56.0</td>\n      <td>6424</td>\n      <td>6.96</td>\n      <td>6.93</td>\n      <td>4.35</td>\n    </tr>\n    <tr>\n      <th>2</th>\n      <td>1.20</td>\n      <td>Premium</td>\n      <td>I</td>\n      <td>SI1</td>\n      <td>61.1</td>\n      <td>58.0</td>\n      <td>5510</td>\n      <td>6.88</td>\n      <td>6.80</td>\n      <td>4.18</td>\n    </tr>\n    <tr>\n      <th>3</th>\n      <td>1.50</td>\n      <td>Ideal</td>\n      <td>F</td>\n      <td>SI1</td>\n      <td>60.9</td>\n      <td>56.0</td>\n      <td>8770</td>\n      <td>7.43</td>\n      <td>7.36</td>\n      <td>4.50</td>\n    </tr>\n    <tr>\n      <th>4</th>\n      <td>0.90</td>\n      <td>Very Good</td>\n      <td>F</td>\n      <td>VS2</td>\n      <td>61.7</td>\n      <td>57.0</td>\n      <td>4493</td>\n      <td>6.17</td>\n      <td>6.21</td>\n      <td>3.82</td>\n    </tr>\n    <tr>\n      <th>...</th>\n      <td>...</td>\n      <td>...</td>\n      <td>...</td>\n      <td>...</td>\n      <td>...</td>\n      <td>...</td>\n      <td>...</td>\n      <td>...</td>\n      <td>...</td>\n      <td>...</td>\n    </tr>\n    <tr>\n      <th>4995</th>\n      <td>0.38</td>\n      <td>Ideal</td>\n      <td>H</td>\n      <td>VVS2</td>\n      <td>62.3</td>\n      <td>53.3</td>\n      <td>832</td>\n      <td>4.65</td>\n      <td>4.69</td>\n      <td>2.91</td>\n    </tr>\n    <tr>\n      <th>4996</th>\n      <td>0.33</td>\n      <td>Premium</td>\n      <td>G</td>\n      <td>VVS2</td>\n      <td>61.3</td>\n      <td>59.0</td>\n      <td>927</td>\n      <td>4.45</td>\n      <td>4.42</td>\n      <td>2.72</td>\n    </tr>\n    <tr>\n      <th>4997</th>\n      <td>1.25</td>\n      <td>Ideal</td>\n      <td>J</td>\n      <td>VVS2</td>\n      <td>62.1</td>\n      <td>56.0</td>\n      <td>5980</td>\n      <td>6.81</td>\n      <td>6.84</td>\n      <td>4.24</td>\n    </tr>\n    <tr>\n      <th>4998</th>\n      <td>0.31</td>\n      <td>Premium</td>\n      <td>F</td>\n      <td>VS2</td>\n      <td>62.9</td>\n      <td>58.0</td>\n      <td>802</td>\n      <td>4.31</td>\n      <td>4.27</td>\n      <td>2.70</td>\n    </tr>\n    <tr>\n      <th>4999</th>\n      <td>0.30</td>\n      <td>Ideal</td>\n      <td>H</td>\n      <td>VVS1</td>\n      <td>61.2</td>\n      <td>57.0</td>\n      <td>655</td>\n      <td>4.30</td>\n      <td>4.39</td>\n      <td>2.66</td>\n    </tr>\n  </tbody>\n</table>\n<p>5000 rows × 10 columns</p>\n</div>"
     },
     "execution_count": 16,
     "metadata": {},
     "output_type": "execute_result"
    }
   ],
   "source": [
    "data = load_csvs(\n",
    "    folder_name=\"../datasets/diamonds/\",\n",
    "    read_csv_parameters={\n",
    "        'skipinitialspace': True,\n",
    "        'encoding': 'utf-8'\n",
    "    }\n",
    ")\n",
    "\n",
    "dataset = data['diamonds']\n",
    "\n",
    "dataset"
   ],
   "metadata": {
    "collapsed": false,
    "ExecuteTime": {
     "end_time": "2024-04-17T13:05:11.622224800Z",
     "start_time": "2024-04-17T13:05:11.569715200Z"
    }
   },
   "id": "bedd7e4caf841833"
  },
  {
   "cell_type": "code",
   "execution_count": 17,
   "outputs": [
    {
     "data": {
      "text/plain": "{'METADATA_SPEC_VERSION': 'SINGLE_TABLE_V1',\n 'columns': {'carat': {'sdtype': 'numerical'},\n  'cut': {'sdtype': 'categorical'},\n  'color': {'sdtype': 'categorical'},\n  'clarity': {'sdtype': 'categorical'},\n  'depth': {'sdtype': 'numerical'},\n  'table': {'sdtype': 'numerical'},\n  'price': {'sdtype': 'numerical'},\n  'x': {'sdtype': 'numerical'},\n  'y': {'sdtype': 'numerical'},\n  'z': {'sdtype': 'numerical'}}}"
     },
     "execution_count": 17,
     "metadata": {},
     "output_type": "execute_result"
    }
   ],
   "source": [
    "metadata = SingleTableMetadata()\n",
    "metadata.detect_from_dataframe(dataset)\n",
    "\n",
    "metadata.to_dict()"
   ],
   "metadata": {
    "collapsed": true,
    "ExecuteTime": {
     "end_time": "2024-04-17T13:05:11.669112Z",
     "start_time": "2024-04-17T13:05:11.611866100Z"
    }
   },
   "id": "initial_id"
  },
  {
   "cell_type": "code",
   "execution_count": 18,
   "outputs": [],
   "source": [
    "metadata.validate()\n",
    "metadata.validate_data(data=dataset)"
   ],
   "metadata": {
    "collapsed": false,
    "ExecuteTime": {
     "end_time": "2024-04-17T13:05:11.774581900Z",
     "start_time": "2024-04-17T13:05:11.645889700Z"
    }
   },
   "id": "55c27fe3c453d38f"
  },
  {
   "cell_type": "code",
   "execution_count": 19,
   "outputs": [
    {
     "name": "stderr",
     "output_type": "stream",
     "text": [
      "C:\\Users\\marco\\AppData\\Local\\Programs\\Python\\Python311\\Lib\\site-packages\\sdv\\single_table\\base.py:81: UserWarning: We strongly recommend saving the metadata using 'save_to_json' for replicability in future SDV versions.\n",
      "  warnings.warn(\n"
     ]
    },
    {
     "data": {
      "text/plain": "    carat        cut color clarity  depth  table  price     x     y     z\n0    1.32      Ideal     F     SI1   61.4   57.1   6922  6.84  6.85  4.23\n1    0.82      Ideal     G     VS1   62.1   54.0   6357  6.16  6.16  3.80\n2    0.52  Very Good     F     SI2   63.2   56.2    516  5.04  4.98  3.16\n3    0.33      Ideal     H     VS2   60.7   57.7    539  4.68  4.66  2.79\n4    0.66       Good     J     SI2   61.0   61.9   3396  5.72  5.72  3.51\n..    ...        ...   ...     ...    ...    ...    ...   ...   ...   ...\n95   0.44    Premium     J    VVS2   63.3   57.4   1201  4.58  4.57  2.94\n96   0.78      Ideal     G     SI1   63.7   54.8   2978  5.51  5.52  3.53\n97   0.49    Premium     F     VS1   60.8   55.5   2070  5.30  5.18  3.14\n98   0.53      Ideal     E     VS2   62.6   55.7   2071  5.11  5.11  3.17\n99   0.87    Premium     E    VVS2   62.6   56.6   4408  5.89  5.86  3.58\n\n[100 rows x 10 columns]",
      "text/html": "<div>\n<style scoped>\n    .dataframe tbody tr th:only-of-type {\n        vertical-align: middle;\n    }\n\n    .dataframe tbody tr th {\n        vertical-align: top;\n    }\n\n    .dataframe thead th {\n        text-align: right;\n    }\n</style>\n<table border=\"1\" class=\"dataframe\">\n  <thead>\n    <tr style=\"text-align: right;\">\n      <th></th>\n      <th>carat</th>\n      <th>cut</th>\n      <th>color</th>\n      <th>clarity</th>\n      <th>depth</th>\n      <th>table</th>\n      <th>price</th>\n      <th>x</th>\n      <th>y</th>\n      <th>z</th>\n    </tr>\n  </thead>\n  <tbody>\n    <tr>\n      <th>0</th>\n      <td>1.32</td>\n      <td>Ideal</td>\n      <td>F</td>\n      <td>SI1</td>\n      <td>61.4</td>\n      <td>57.1</td>\n      <td>6922</td>\n      <td>6.84</td>\n      <td>6.85</td>\n      <td>4.23</td>\n    </tr>\n    <tr>\n      <th>1</th>\n      <td>0.82</td>\n      <td>Ideal</td>\n      <td>G</td>\n      <td>VS1</td>\n      <td>62.1</td>\n      <td>54.0</td>\n      <td>6357</td>\n      <td>6.16</td>\n      <td>6.16</td>\n      <td>3.80</td>\n    </tr>\n    <tr>\n      <th>2</th>\n      <td>0.52</td>\n      <td>Very Good</td>\n      <td>F</td>\n      <td>SI2</td>\n      <td>63.2</td>\n      <td>56.2</td>\n      <td>516</td>\n      <td>5.04</td>\n      <td>4.98</td>\n      <td>3.16</td>\n    </tr>\n    <tr>\n      <th>3</th>\n      <td>0.33</td>\n      <td>Ideal</td>\n      <td>H</td>\n      <td>VS2</td>\n      <td>60.7</td>\n      <td>57.7</td>\n      <td>539</td>\n      <td>4.68</td>\n      <td>4.66</td>\n      <td>2.79</td>\n    </tr>\n    <tr>\n      <th>4</th>\n      <td>0.66</td>\n      <td>Good</td>\n      <td>J</td>\n      <td>SI2</td>\n      <td>61.0</td>\n      <td>61.9</td>\n      <td>3396</td>\n      <td>5.72</td>\n      <td>5.72</td>\n      <td>3.51</td>\n    </tr>\n    <tr>\n      <th>...</th>\n      <td>...</td>\n      <td>...</td>\n      <td>...</td>\n      <td>...</td>\n      <td>...</td>\n      <td>...</td>\n      <td>...</td>\n      <td>...</td>\n      <td>...</td>\n      <td>...</td>\n    </tr>\n    <tr>\n      <th>95</th>\n      <td>0.44</td>\n      <td>Premium</td>\n      <td>J</td>\n      <td>VVS2</td>\n      <td>63.3</td>\n      <td>57.4</td>\n      <td>1201</td>\n      <td>4.58</td>\n      <td>4.57</td>\n      <td>2.94</td>\n    </tr>\n    <tr>\n      <th>96</th>\n      <td>0.78</td>\n      <td>Ideal</td>\n      <td>G</td>\n      <td>SI1</td>\n      <td>63.7</td>\n      <td>54.8</td>\n      <td>2978</td>\n      <td>5.51</td>\n      <td>5.52</td>\n      <td>3.53</td>\n    </tr>\n    <tr>\n      <th>97</th>\n      <td>0.49</td>\n      <td>Premium</td>\n      <td>F</td>\n      <td>VS1</td>\n      <td>60.8</td>\n      <td>55.5</td>\n      <td>2070</td>\n      <td>5.30</td>\n      <td>5.18</td>\n      <td>3.14</td>\n    </tr>\n    <tr>\n      <th>98</th>\n      <td>0.53</td>\n      <td>Ideal</td>\n      <td>E</td>\n      <td>VS2</td>\n      <td>62.6</td>\n      <td>55.7</td>\n      <td>2071</td>\n      <td>5.11</td>\n      <td>5.11</td>\n      <td>3.17</td>\n    </tr>\n    <tr>\n      <th>99</th>\n      <td>0.87</td>\n      <td>Premium</td>\n      <td>E</td>\n      <td>VVS2</td>\n      <td>62.6</td>\n      <td>56.6</td>\n      <td>4408</td>\n      <td>5.89</td>\n      <td>5.86</td>\n      <td>3.58</td>\n    </tr>\n  </tbody>\n</table>\n<p>100 rows × 10 columns</p>\n</div>"
     },
     "execution_count": 19,
     "metadata": {},
     "output_type": "execute_result"
    }
   ],
   "source": [
    "from sdv.single_table import GaussianCopulaSynthesizer\n",
    "\n",
    "synth = GaussianCopulaSynthesizer(metadata=metadata)\n",
    "synth.fit(dataset)\n",
    "synth_data = synth.sample(num_rows=100)\n",
    "\n",
    "synth_data"
   ],
   "metadata": {
    "collapsed": false,
    "ExecuteTime": {
     "end_time": "2024-04-17T13:05:17.114847300Z",
     "start_time": "2024-04-17T13:05:11.686789400Z"
    }
   },
   "id": "1e2993eab68ec4be"
  },
  {
   "cell_type": "code",
   "execution_count": 20,
   "outputs": [],
   "source": [
    "synth_data.to_csv(\"synth_diamonds.csv\", index=False)"
   ],
   "metadata": {
    "collapsed": false,
    "ExecuteTime": {
     "end_time": "2024-04-17T13:05:17.122846100Z",
     "start_time": "2024-04-17T13:05:17.112331400Z"
    }
   },
   "id": "91c9f8c99dbb0d35"
  }
 ],
 "metadata": {
  "kernelspec": {
   "display_name": "Python 3",
   "language": "python",
   "name": "python3"
  },
  "language_info": {
   "codemirror_mode": {
    "name": "ipython",
    "version": 2
   },
   "file_extension": ".py",
   "mimetype": "text/x-python",
   "name": "python",
   "nbconvert_exporter": "python",
   "pygments_lexer": "ipython2",
   "version": "2.7.6"
  }
 },
 "nbformat": 4,
 "nbformat_minor": 5
}
